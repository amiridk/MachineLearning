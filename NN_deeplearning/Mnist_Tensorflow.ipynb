{
 "cells": [
  {
   "cell_type": "code",
   "execution_count": 2,
   "metadata": {},
   "outputs": [],
   "source": [
    "import tensorflow as tf\n",
    "import tensorflow_datasets"
   ]
  },
  {
   "cell_type": "code",
   "execution_count": 5,
   "metadata": {},
   "outputs": [
    {
     "name": "stdout",
     "output_type": "stream",
     "text": [
      "\u001b[1mDownloading and preparing dataset Unknown size (download: Unknown size, generated: Unknown size, total: Unknown size) to C:\\Users\\ASUS\\tensorflow_datasets\\mnist\\3.0.1...\u001b[0m\n"
     ]
    },
    {
     "name": "stderr",
     "output_type": "stream",
     "text": [
      "Dl Completed...: 0 url [00:00, ? url/s]\n",
      "Dl Completed...:   0%|          | 0/1 [00:00<?, ? url/s]\n",
      "Dl Completed...:   0%|          | 0/2 [00:00<?, ? url/s]\n",
      "Dl Completed...:  50%|█████     | 1/2 [00:00<00:00, 53.87 url/s]\n",
      "Dl Completed...:  50%|█████     | 1/2 [00:00<00:00, 42.40 url/s]\n",
      "Dl Completed...:  50%|█████     | 1/2 [00:00<00:00, 34.93 url/s]\n",
      "Dl Completed...:  33%|███▎      | 1/3 [00:00<00:00, 26.17 url/s]\n",
      "Dl Completed...:  25%|██▌       | 1/4 [00:00<00:00, 22.07 url/s]\n",
      "Dl Completed...:  50%|█████     | 2/4 [00:00<00:00, 39.77 url/s]\n",
      "Dl Completed...:  50%|█████     | 2/4 [00:00<00:00, 35.85 url/s]\n",
      "Dl Completed...:  50%|█████     | 2/4 [00:00<00:00, 33.44 url/s]\n",
      "Extraction completed...: 100%|██████████| 2/2 [00:10<00:00,  5.09s/ file]\n",
      "Dl Size...: 100%|██████████| 33433/33433 [00:10<00:00, 3281.19 MiB/s] \n",
      "Dl Completed...: 100%|██████████| 4/4 [00:10<00:00,  2.55s/ url]\n",
      "                                                                        "
     ]
    },
    {
     "name": "stdout",
     "output_type": "stream",
     "text": [
      "\u001b[1mDataset mnist downloaded and prepared to C:\\Users\\ASUS\\tensorflow_datasets\\mnist\\3.0.1. Subsequent calls will reuse this data.\u001b[0m\n"
     ]
    },
    {
     "name": "stderr",
     "output_type": "stream",
     "text": [
      "\r"
     ]
    }
   ],
   "source": [
    "(ds_train , ds_test) , ds_info = tensorflow_datasets.load(\n",
    "    'mnist',\n",
    "    split=['train', 'test'],\n",
    "    shuffle_files=True,\n",
    "    as_supervised=True,\n",
    "    with_info=True\n",
    ")"
   ]
  }
 ],
 "metadata": {
  "kernelspec": {
   "display_name": "tf",
   "language": "python",
   "name": "python3"
  },
  "language_info": {
   "codemirror_mode": {
    "name": "ipython",
    "version": 3
   },
   "file_extension": ".py",
   "mimetype": "text/x-python",
   "name": "python",
   "nbconvert_exporter": "python",
   "pygments_lexer": "ipython3",
   "version": "undefined.undefined.undefined"
  }
 },
 "nbformat": 4,
 "nbformat_minor": 2
}
