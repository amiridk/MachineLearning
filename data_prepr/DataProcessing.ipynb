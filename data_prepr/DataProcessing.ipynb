{
 "cells": [
  {
   "cell_type": "code",
   "execution_count": 91,
   "metadata": {},
   "outputs": [],
   "source": [
    "import numpy as np\n",
    "import pandas as pd\n",
    "import plotly.express as px\n",
    "import pickle\n",
    "from sklearn.impute import SimpleImputer\n",
    "from sklearn.preprocessing import StandardScaler\n",
    "from sklearn.preprocessing import LabelEncoder\n",
    "from sklearn.preprocessing import OneHotEncoder\n",
    "from sklearn.compose import ColumnTransformer"
   ]
  },
  {
   "cell_type": "code",
   "execution_count": 92,
   "metadata": {},
   "outputs": [
    {
     "data": {
      "text/html": [
       "<div>\n",
       "<style scoped>\n",
       "    .dataframe tbody tr th:only-of-type {\n",
       "        vertical-align: middle;\n",
       "    }\n",
       "\n",
       "    .dataframe tbody tr th {\n",
       "        vertical-align: top;\n",
       "    }\n",
       "\n",
       "    .dataframe thead th {\n",
       "        text-align: right;\n",
       "    }\n",
       "</style>\n",
       "<table border=\"1\" class=\"dataframe\">\n",
       "  <thead>\n",
       "    <tr style=\"text-align: right;\">\n",
       "      <th></th>\n",
       "      <th>Region</th>\n",
       "      <th>Age</th>\n",
       "      <th>Income</th>\n",
       "      <th>Online Shoper</th>\n",
       "    </tr>\n",
       "  </thead>\n",
       "  <tbody>\n",
       "    <tr>\n",
       "      <th>0</th>\n",
       "      <td>india</td>\n",
       "      <td>49.0</td>\n",
       "      <td>86400.0</td>\n",
       "      <td>No</td>\n",
       "    </tr>\n",
       "    <tr>\n",
       "      <th>1</th>\n",
       "      <td>USA</td>\n",
       "      <td>35.0</td>\n",
       "      <td>57600.0</td>\n",
       "      <td>Yes</td>\n",
       "    </tr>\n",
       "    <tr>\n",
       "      <th>2</th>\n",
       "      <td>Brazil</td>\n",
       "      <td>43.0</td>\n",
       "      <td>73200.0</td>\n",
       "      <td>No</td>\n",
       "    </tr>\n",
       "    <tr>\n",
       "      <th>3</th>\n",
       "      <td>USA</td>\n",
       "      <td>45.0</td>\n",
       "      <td>NaN</td>\n",
       "      <td>Yes</td>\n",
       "    </tr>\n",
       "    <tr>\n",
       "      <th>4</th>\n",
       "      <td>India</td>\n",
       "      <td>40.0</td>\n",
       "      <td>60600.0</td>\n",
       "      <td>Yes</td>\n",
       "    </tr>\n",
       "    <tr>\n",
       "      <th>5</th>\n",
       "      <td>USA</td>\n",
       "      <td>55.0</td>\n",
       "      <td>99600.0</td>\n",
       "      <td>No</td>\n",
       "    </tr>\n",
       "    <tr>\n",
       "      <th>6</th>\n",
       "      <td>Brazil</td>\n",
       "      <td>NaN</td>\n",
       "      <td>62400.0</td>\n",
       "      <td>No</td>\n",
       "    </tr>\n",
       "    <tr>\n",
       "      <th>7</th>\n",
       "      <td>India</td>\n",
       "      <td>42.0</td>\n",
       "      <td>80400.0</td>\n",
       "      <td>Yes</td>\n",
       "    </tr>\n",
       "  </tbody>\n",
       "</table>\n",
       "</div>"
      ],
      "text/plain": [
       "   Region   Age   Income Online Shoper\n",
       "0   india  49.0  86400.0            No\n",
       "1     USA  35.0  57600.0           Yes\n",
       "2  Brazil  43.0  73200.0            No\n",
       "3     USA  45.0      NaN           Yes\n",
       "4   India  40.0  60600.0           Yes\n",
       "5     USA  55.0  99600.0            No\n",
       "6  Brazil   NaN  62400.0            No\n",
       "7   India  42.0  80400.0           Yes"
      ]
     },
     "execution_count": 92,
     "metadata": {},
     "output_type": "execute_result"
    }
   ],
   "source": [
    "df = pd.read_csv('../data_samples/data_prep.csv')\n",
    "df"
   ]
  },
  {
   "cell_type": "code",
   "execution_count": 93,
   "metadata": {},
   "outputs": [
    {
     "name": "stdout",
     "output_type": "stream",
     "text": [
      "[['india' 49.0 86400.0]\n",
      " ['USA' 35.0 57600.0]\n",
      " ['Brazil' 43.0 73200.0]\n",
      " ['USA' 45.0 nan]\n",
      " ['India' 40.0 60600.0]\n",
      " ['USA' 55.0 99600.0]\n",
      " ['Brazil' nan 62400.0]\n",
      " ['India' 42.0 80400.0]]\n",
      "\n",
      " ['No' 'Yes' 'No' 'Yes' 'Yes' 'No' 'No' 'Yes']\n"
     ]
    }
   ],
   "source": [
    "X = df.iloc[: , :-1].values\n",
    "y= df.iloc[ : , -1].values\n",
    "print(X )\n",
    "print(f'\\n {y}')"
   ]
  },
  {
   "cell_type": "code",
   "execution_count": 94,
   "metadata": {},
   "outputs": [],
   "source": [
    "\n",
    "si = SimpleImputer(missing_values=np.nan , strategy='mean')\n",
    "si.fit(X[: , 1:])\n",
    "X[: ,1:]=si.transform(X[:, 1:])\n"
   ]
  },
  {
   "cell_type": "code",
   "execution_count": 95,
   "metadata": {},
   "outputs": [
    {
     "data": {
      "text/plain": [
       "array([[2.30000000e+01, 7.43142857e+04]])"
      ]
     },
     "execution_count": 95,
     "metadata": {},
     "output_type": "execute_result"
    }
   ],
   "source": [
    "new_data_for_test = np.array([['Iran' , 23 ,np.nan]])\n",
    "si.transform(new_data_for_test[: , 1:])"
   ]
  },
  {
   "cell_type": "code",
   "execution_count": null,
   "metadata": {},
   "outputs": [],
   "source": []
  },
  {
   "cell_type": "code",
   "execution_count": 96,
   "metadata": {},
   "outputs": [],
   "source": [
    "# with open('si.h5' , 'wb') as f :\n",
    "#     pickle.dump(si, f)"
   ]
  },
  {
   "cell_type": "code",
   "execution_count": 97,
   "metadata": {},
   "outputs": [],
   "source": [
    "# with open ('si.h5' ,'rb') as f :\n",
    "#     si2 = pickle.load(f)"
   ]
  },
  {
   "cell_type": "code",
   "execution_count": 98,
   "metadata": {},
   "outputs": [
    {
     "data": {
      "text/plain": [
       "array([[3, 49.0, 86400.0],\n",
       "       [2, 35.0, 57600.0],\n",
       "       [0, 43.0, 73200.0],\n",
       "       [2, 45.0, 74314.28571428571],\n",
       "       [1, 40.0, 60600.0],\n",
       "       [2, 55.0, 99600.0],\n",
       "       [0, 44.142857142857146, 62400.0],\n",
       "       [1, 42.0, 80400.0]], dtype=object)"
      ]
     },
     "execution_count": 98,
     "metadata": {},
     "output_type": "execute_result"
    }
   ],
   "source": [
    "\n",
    "le = LabelEncoder()\n",
    "X[: , 0] = le.fit_transform(X[: , 0])\n",
    "X\n"
   ]
  },
  {
   "cell_type": "code",
   "execution_count": 99,
   "metadata": {},
   "outputs": [
    {
     "data": {
      "text/plain": [
       "array([[0.0, 0.0, 0.0, 1.0, 49.0, 86400.0],\n",
       "       [0.0, 0.0, 1.0, 0.0, 35.0, 57600.0],\n",
       "       [1.0, 0.0, 0.0, 0.0, 43.0, 73200.0],\n",
       "       [0.0, 0.0, 1.0, 0.0, 45.0, 74314.28571428571],\n",
       "       [0.0, 1.0, 0.0, 0.0, 40.0, 60600.0],\n",
       "       [0.0, 0.0, 1.0, 0.0, 55.0, 99600.0],\n",
       "       [1.0, 0.0, 0.0, 0.0, 44.142857142857146, 62400.0],\n",
       "       [0.0, 1.0, 0.0, 0.0, 42.0, 80400.0]], dtype=object)"
      ]
     },
     "execution_count": 99,
     "metadata": {},
     "output_type": "execute_result"
    }
   ],
   "source": [
    "ct = ColumnTransformer([('Country' , OneHotEncoder(),[0])] , remainder='passthrough')\n",
    "X=ct.fit_transform(X)\n",
    "X"
   ]
  },
  {
   "cell_type": "code",
   "execution_count": 100,
   "metadata": {},
   "outputs": [
    {
     "data": {
      "text/plain": [
       "array([[-0.57735027, -0.57735027, -0.77459667,  2.64575131,  0.87086496,\n",
       "         0.90297925],\n",
       "       [-0.57735027, -0.57735027,  1.29099445, -0.37796447, -1.63927521,\n",
       "        -1.24880109],\n",
       "       [ 1.73205081, -0.57735027, -0.77459667, -0.37796447, -0.2049094 ,\n",
       "        -0.08325341],\n",
       "       [-0.57735027, -0.57735027,  1.29099445, -0.37796447,  0.15368205,\n",
       "         0.        ],\n",
       "       [-0.57735027,  1.73205081, -0.77459667, -0.37796447, -0.74279658,\n",
       "        -1.0246573 ],\n",
       "       [-0.57735027, -0.57735027,  1.29099445, -0.37796447,  1.94663932,\n",
       "         1.8892119 ],\n",
       "       [ 1.73205081, -0.57735027, -0.77459667, -0.37796447,  0.        ,\n",
       "        -0.89017103],\n",
       "       [-0.57735027,  1.73205081, -0.77459667, -0.37796447, -0.38420513,\n",
       "         0.45469168]])"
      ]
     },
     "execution_count": 100,
     "metadata": {},
     "output_type": "execute_result"
    }
   ],
   "source": [
    "ss=StandardScaler()\n",
    "X=ss.fit_transform(X)\n",
    "X"
   ]
  },
  {
   "cell_type": "code",
   "execution_count": 101,
   "metadata": {},
   "outputs": [],
   "source": [
    "# with open('le.h5','wb') as f:\n",
    "#     pickle.dump(le, f)\n",
    "# with open('ct.h5','wb') as f:\n",
    "#     pickle.dump(le, f)\n",
    "# with open('ss.h5','wb') as f:\n",
    "#     pickle.dump(le, f)"
   ]
  }
 ],
 "metadata": {
  "kernelspec": {
   "display_name": "base",
   "language": "python",
   "name": "python3"
  },
  "language_info": {
   "codemirror_mode": {
    "name": "ipython",
    "version": 3
   },
   "file_extension": ".py",
   "mimetype": "text/x-python",
   "name": "python",
   "nbconvert_exporter": "python",
   "pygments_lexer": "ipython3",
   "version": "3.12.7"
  }
 },
 "nbformat": 4,
 "nbformat_minor": 2
}
